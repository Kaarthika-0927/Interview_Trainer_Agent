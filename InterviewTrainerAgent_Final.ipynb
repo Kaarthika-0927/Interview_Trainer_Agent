{
 "cells": [
  {
   "cell_type": "markdown",
   "id": "f1e0b8ce",
   "metadata": {},
   "source": [
    "# Prompt Lab | Part of IBM watsonx.ai®\n",
    "\n",
    "# Interview Trainer Agent Notebook v1.0.0\n",
    "\n",
    "This notebook contains steps and code to demonstrate the use of an Interview Trainer Agent for answering role-specific interview questions. It introduces Python code for loading a knowledge base, retrieving relevant questions, and running a mock interview session.\n",
    "\n",
    "> **Note:** This is a standalone demonstration. It loads questions from a local file instead of connecting to IBM services."
   ]
  },
  {
   "cell_type": "markdown",
   "id": "7535cdfd",
   "metadata": {},
   "source": [
    "## Notebook goals\n",
    "\n",
    "The learning goals of this notebook are:\n",
    "\n",
    "- Loading a role-based interview question knowledge base\n",
    "- Creating helper functions to retrieve and display questions for specific roles\n",
    "- Running a mock interview and answering ad-hoc queries"
   ]
  },
  {
   "cell_type": "markdown",
   "id": "9988173f",
   "metadata": {},
   "source": [
    "## Setup"
   ]
  },
  {
   "cell_type": "code",
   "execution_count": null,
   "id": "80a7b231",
   "metadata": {},
   "outputs": [],
   "source": [
    "import os, glob, textwrap\n",
    "\n",
    "# Auto-detect the knowledge base file\n",
    "candidates = glob.glob('/mnt/data/InterviewTrainerAgent_KnowledgeBase*.txt') + glob.glob('/mnt/data/*InterviewTrainerAgent_KnowledgeBase*.txt')\n",
    "if candidates:\n",
    "    KB_PATH = candidates[0]\n",
    "else:\n",
    "    KB_PATH = '/mnt/data/InterviewTrainerAgent_KnowledgeBase (1).txt'  # fallback\n",
    "\n",
    "print(\"Using knowledge base file:\", KB_PATH)\n",
    "with open(KB_PATH, 'r', encoding='utf-8') as f:\n",
    "    kb_text = f.read()\n",
    "\n",
    "# Preview first part of file\n",
    "print(\"\\n--- Knowledge base preview (first 800 chars) ---\\n\")\n",
    "print(textwrap.fill(kb_text[:800], width=120))"
   ]
  },
  {
   "cell_type": "markdown",
   "id": "c649656d",
   "metadata": {},
   "source": [
    "## Utilities: Search Functions\n",
    "We will implement simple keyword-based and fuzzy matching functions to retrieve questions from the knowledge base."
   ]
  },
  {
   "cell_type": "code",
   "execution_count": null,
   "id": "4bd4b793",
   "metadata": {},
   "outputs": [],
   "source": [
    "from difflib import get_close_matches\n",
    "import re\n",
    "\n",
    "kb_lines = [ln.strip() for ln in kb_text.splitlines() if ln.strip()]\n",
    "\n",
    "def simple_search(query, max_results=7):\n",
    "    '''Return lines that contain all query words (case-insensitive).'''\n",
    "    q = query.lower().split()\n",
    "    results = []\n",
    "    for ln in kb_lines:\n",
    "        ln_low = ln.lower()\n",
    "        if all(any(w in ln_low for w in q) for w in q):\n",
    "            results.append(ln)\n",
    "    if not results:\n",
    "        words = [w for w in re.findall(r\"\\w+\", query) if len(w) > 3]\n",
    "        if words:\n",
    "            cand_scores = []\n",
    "            for ln in kb_lines:\n",
    "                score = sum(1 for w in words if w.lower() in ln.lower())\n",
    "                if score:\n",
    "                    cand_scores.append((score, ln))\n",
    "            cand_scores.sort(reverse=True)\n",
    "            results = [ln for s, ln in cand_scores[:max_results]]\n",
    "    return results[:max_results]\n",
    "\n",
    "def fuzzy_search(query, max_results=7):\n",
    "    return get_close_matches(query, kb_lines, n=max_results, cutoff=0.4)\n",
    "\n",
    "print('Knowledge base loaded with', len(kb_lines), 'lines.')"
   ]
  },
  {
   "cell_type": "markdown",
   "id": "9587436b",
   "metadata": {},
   "source": [
    "## Role-based Mock Interview"
   ]
  },
  {
   "cell_type": "code",
   "execution_count": null,
   "id": "58f0892c",
   "metadata": {},
   "outputs": [],
   "source": [
    "import random\n",
    "from IPython.display import display, Markdown\n",
    "\n",
    "role_keywords = {\n",
    "    'software developer - fresher': ['Software Developer – Fresher', 'four pillars of OOP', 'reverse a string', 'difference between Java and Python', 'final year project'],\n",
    "    'software developer - 2+ years': ['design patterns', 'optimize backend API', 'multithreading', 'major technical challenge'],\n",
    "    'data analyst - fresher': ['data cleaning', 'types of data', 'Excel', 'Power BI', 'Python'],\n",
    "    'cybersecurity analyst - fresher': ['phishing', 'firewall', 'vulnerabilities', 'cybersecurity'],\n",
    "    'ai/ml engineer - 2+ years': ['supervised', 'unsupervised', 'model accuracy', 'overfitting', 'underfitting'],\n",
    "    'ui/ux designer - fresher': ['UX design', 'user research', 'wireframing', 'design project'],\n",
    "    'hr executive - fresher': ['work in HR', 'conflict between team members', 'communication'],\n",
    "    'marketing executive - fresher': ['marketing campaign', 'digital', 'traditional marketing', 'SEO'],\n",
    "    'project manager - 2+ years': ['manage deadlines', 'project you successfully led', 'scope creep'],\n",
    "    'technical support engineer - fresher': ['frustrated customer', 'remote troubleshooting', 'SLAs']\n",
    "}\n",
    "\n",
    "def collect_questions_for_role(role, n=6):\n",
    "    role_key = role.lower()\n",
    "    keywords = role_keywords.get(role_key, [])\n",
    "    found = []\n",
    "    for kw in keywords:\n",
    "        found += simple_search(kw, max_results=5)\n",
    "    if not found:\n",
    "        found = fuzzy_search(role, max_results=n)\n",
    "    seen, ordered = set(), []\n",
    "    for ln in found:\n",
    "        if ln not in seen:\n",
    "            ordered.append(ln)\n",
    "            seen.add(ln)\n",
    "        if len(ordered) >= n:\n",
    "            break\n",
    "    return ordered\n",
    "\n",
    "def mock_interview(role='Data Analyst - Fresher', n=5):\n",
    "    questions = collect_questions_for_role(role, n=n*2)\n",
    "    if not questions:\n",
    "        display(Markdown('**No questions found for role:** ' + role))\n",
    "        return\n",
    "    display(Markdown(f\"### Mock interview for **{role}**\\n\"))\n",
    "    sel = questions[:n]\n",
    "    for i, q in enumerate(sel, start=1):\n",
    "        display(Markdown(f\"**Q{i}.** {q}\"))\n",
    "        display(Markdown(\"**A:** _(Type your answer here)_\\n---\"))\n",
    "\n",
    "mock_interview('Data Analyst - Fresher')"
   ]
  },
  {
   "cell_type": "markdown",
   "id": "d3ba84db",
   "metadata": {},
   "source": [
    "## Ask the Agent"
   ]
  },
  {
   "cell_type": "code",
   "execution_count": null,
   "id": "2c3afa5a",
   "metadata": {},
   "outputs": [],
   "source": [
    "def ask_agent(question, max_results=6):\n",
    "    res = simple_search(question, max_results=max_results)\n",
    "    if not res:\n",
    "        res = fuzzy_search(question, max_results=max_results)\n",
    "    if not res:\n",
    "        return ['No relevant information found in the knowledge base.']\n",
    "    return res\n",
    "\n",
    "print('\\n'.join(ask_agent('What is phishing and how do you prevent it?')))"
   ]
  },
  {
   "cell_type": "markdown",
   "id": "b714ed29",
   "metadata": {},
   "source": [
    "## Save & Download\n",
    "The notebook file is saved in `/mnt/data/InterviewTrainerAgent_Final.ipynb`. You can download it using the link after running this cell."
   ]
  },
  {
   "cell_type": "code",
   "execution_count": null,
   "id": "71d89a6a",
   "metadata": {},
   "outputs": [],
   "source": [
    "import nbformat as nbf\n",
    "out_path = '/mnt/data/InterviewTrainerAgent_Final.ipynb'\n",
    "nbformat.write(nbformat.v4.new_notebook(), out_path)\n",
    "print('Notebook saved to', out_path)"
   ]
  }
 ],
 "metadata": {},
 "nbformat": 4,
 "nbformat_minor": 5
}
